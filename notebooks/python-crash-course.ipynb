{
 "cells": [
  {
   "cell_type": "code",
   "execution_count": null,
   "id": "822dfc48",
   "metadata": {},
   "outputs": [],
   "source": [
    "print(\"hello world\")"
   ]
  },
  {
   "cell_type": "code",
   "execution_count": null,
   "id": "221bbc7c",
   "metadata": {},
   "outputs": [],
   "source": [
    "print((9-3)/(2*(1+2)))"
   ]
  },
  {
   "cell_type": "code",
   "execution_count": null,
   "id": "d54fd605",
   "metadata": {},
   "outputs": [],
   "source": [
    "# Function to calculate the number of seconds in an hour\n",
    "# This function multiplies 60 seconds by 60 minutes to get the total seconds in an hour.\n",
    "# It can be used to convert time units or for time-related calculations.\n",
    "seconds_in_hour = 60 * 60\n",
    "print(seconds_in_hour)"
   ]
  },
  {
   "cell_type": "code",
   "execution_count": null,
   "id": "f0502ce2",
   "metadata": {},
   "outputs": [],
   "source": [
    "# Function to calculate the number of possibilities for a 3-digit number\n",
    "# This function calculates the total number of combinations for a 3-digit number\n",
    "# where each digit can be any digit from 0 to 9.\n",
    "# The result is printed as the total number of possibilities.\n",
    "num_digits = 3\n",
    "num_possibilities = 10 ** num_digits\n",
    "print(num_possibilities)"
   ]
  },
  {
   "cell_type": "code",
   "execution_count": null,
   "id": "18719934",
   "metadata": {},
   "outputs": [],
   "source": [
    "# Function to calculate the number of computers replaced per year\n",
    "# This function calculates the total number of computers replaced in a year\n",
    "# based on the total number of computers and the replacement cycle.\n",
    "# It prints the number of computers replaced per year.\n",
    "total_computers = 30 * 20\n",
    "replacement_cycle = 5\n",
    "computers_per_year = total_computers / replacement_cycle\n",
    "\n",
    "print(computers_per_year) # Should print 120.0"
   ]
  },
  {
   "cell_type": "code",
   "execution_count": null,
   "id": "63afab71",
   "metadata": {},
   "outputs": [],
   "source": [
    "print(\"meow\")"
   ]
  },
  {
   "cell_type": "code",
   "execution_count": null,
   "id": "83648843",
   "metadata": {},
   "outputs": [],
   "source": [
    "# The following lines assign the variable to the left of the = \n",
    "# assignment operator with the values and arithmetic expressions \n",
    "# on the right side of the = assignment operator.\n",
    "hotel_room = 100\n",
    "tax = hotel_room * 0.08\n",
    "total = hotel_room + tax\n",
    "room_guests = 4\n",
    "share_per_person = total/room_guests\n",
    "\n",
    "\n",
    "# This line outputs the result of the final calculation stored\n",
    "# in the variable \"share_per_person\"\n",
    "print(\"Each person needs to pay: \" + str(share_per_person)) # change a data type"
   ]
  },
  {
   "cell_type": "code",
   "execution_count": null,
   "id": "00cf39d7",
   "metadata": {},
   "outputs": [],
   "source": [
    "# The following 5 lines assign strings to a list of variables.\n",
    "salutation = \"Dr.\"\n",
    "first_name = \"Prisha\"\n",
    "middle_name = \"Jai\"\n",
    "last_name = \"Agarwal\"\n",
    "suffix = \"Ph.D.\"\n",
    " \n",
    "print(salutation + \" \" + first_name + \" \" + middle_name + \" \" + last_name + \", \" + suffix) \n",
    "# The comma as a string \", \" adds the conventional use of a comma plus a \n",
    "# space to separate the last name from the suffix.\n",
    " \n",
    "# Alternatively, you could use commas in place of the + connector:\n",
    "print(salutation, first_name, middle_name, last_name,\",\", suffix)\n",
    "# However, you will find that this produces a space before a comma within a string."
   ]
  },
  {
   "cell_type": "code",
   "execution_count": null,
   "id": "cd7f843b",
   "metadata": {},
   "outputs": [],
   "source": [
    "# The following code causes a type error between a string \n",
    "# and an integer:\n",
    "\n",
    "print(\"5 * 3 = \" + str(5*3)) \n",
    "\n",
    "\n",
    "# Resolution: \n",
    "# print(\"5 * 3 = \" + str(5*3))\n",
    "#\n",
    "# To avoid a type error between the string and the integer within the\n",
    "# print() function, you can make an explicit data type conversion by\n",
    "# using the str() function to convert the integer to a string.  "
   ]
  },
  {
   "cell_type": "code",
   "execution_count": null,
   "id": "f11c5930",
   "metadata": {},
   "outputs": [],
   "source": [
    "numerator = 7\n",
    "denominator = 1   # Possible resolution: Change the denominator value \n",
    "result = numerator / denominator\n",
    "print(result)\n",
    "\n",
    "\n",
    "# One possible assumption for a number divided by zero error might\n",
    "# include the issue of a null value as a denominator (could happen when\n",
    "# using a loop to iterate over values in a database). In such cases, the\n",
    "# desired outcome may be to leave the numerator value intact. The\n",
    "# numerator value can be preserved by reassigning the denominator with \n",
    "# the integer value of 1. The result would then equal the numerator."
   ]
  },
  {
   "cell_type": "code",
   "execution_count": null,
   "id": "b62b6e90",
   "metadata": {},
   "outputs": [],
   "source": [
    "bill = 47.28 # Assign \"bill\" variable with bill amount\n",
    "tip = bill * 0.15 # Multiply by stated tip rate \n",
    "total = bill + tip # Sum the \"total\" of the \"bill\" and \"tip\"\n",
    "share = total / 2 # Divide \"total\" by number of friends dining\n",
    "print(\"Each person needs to pay: \" + str(share)) # Enter the required string and \"share\" \n",
    "# Hint: Remember to convert incompatible data types"
   ]
  },
  {
   "cell_type": "code",
   "execution_count": null,
   "id": "299226ce",
   "metadata": {},
   "outputs": [],
   "source": [
    "# The following code concatenates multiple strings to form a complete sentence.\n",
    "# It uses the + operator to join the strings together.\n",
    "# The final output is a question about liking Python so far.\n",
    "word1 = \"How \"\n",
    "word2 = \"do \"\n",
    "word3 = \"you \"\n",
    "word4 = \"like \"\n",
    "word5 = \"Python \"\n",
    "word6 = \"so \"\n",
    "word7 = \"far?\"\n",
    "\n",
    "print(word1 + word2 + word3 + word4 + word5 + word6 + word7)"
   ]
  },
  {
   "cell_type": "markdown",
   "id": "1394b7d1",
   "metadata": {},
   "source": [
    "def - we are defining a function so the function is called greeting \n",
    "(name) - this is the parameter "
   ]
  },
  {
   "cell_type": "code",
   "execution_count": null,
   "id": "b277ae48",
   "metadata": {},
   "outputs": [],
   "source": [
    "# Function to greet a user\n",
    "# This function takes a name as a parameter and prints a welcome message.\n",
    "# It can be used to greet users with different names.\n",
    "def greeting(name):\n",
    "    print(\"Welcome, \" + name)\n",
    "    \n",
    "greeting(\"Kay\")\n",
    "greeting(\"Cameron\")"
   ]
  },
  {
   "cell_type": "code",
   "execution_count": null,
   "id": "80fc60e2",
   "metadata": {},
   "outputs": [],
   "source": [
    "# Function to greet a user and indicate their department\n",
    "# This function takes a name and a department as parameters\n",
    "# and prints a welcome message along with the department.\n",
    "# It can be used to greet users in different departments.\n",
    "# Example usage: greeting(\"Blake\", \"Software engineering\")\n",
    "def greeting(name, department):\n",
    "    print(\"Welcome, \" + name)\n",
    "    print(\"You are part of \" + department)\n",
    "    \n",
    "greeting(\"Blake\", \"Software engineering\")\n",
    "greeting(\"Ellis\", \"Software engineering\")"
   ]
  },
  {
   "cell_type": "code",
   "execution_count": null,
   "id": "3f950c1d",
   "metadata": {},
   "outputs": [],
   "source": [
    "# Example of converting an integer to a string\n",
    "# This code converts an integer to a string and prints it.\n",
    "# The str() function is used to convert the integer to a string.\n",
    "number = 12\n",
    "string_representation = str(number)\n",
    "print(string_representation)\n",
    "print(type(\"This is a string\")) #type is used to determine the data type of a variable or value"
   ]
  },
  {
   "cell_type": "code",
   "execution_count": null,
   "id": "e4f903e3",
   "metadata": {},
   "outputs": [],
   "source": [
    "# Example of converting an integer to a string\n",
    "# This code converts an integer to a string and prints it.\n",
    "# The str() function is used to convert the integer to a string.\n",
    "number = 12\n",
    "string_representation = str(number)\n",
    "print(string_representation)"
   ]
  },
  {
   "cell_type": "code",
   "execution_count": null,
   "id": "e3306056",
   "metadata": {},
   "outputs": [],
   "source": [
    "# Example of sorting a list of integers\n",
    "# This code creates a list of integers and sorts them in ascending order.\n",
    "# The sorted() function is used to sort the list.\n",
    "# The sorted list is then printed.\n",
    "time_list = [12, 2, 32, 19, 57, 22, 14]\n",
    "print(sorted(time_list))"
   ]
  },
  {
   "cell_type": "code",
   "execution_count": null,
   "id": "4cc02573",
   "metadata": {},
   "outputs": [],
   "source": [
    "# The original list remains unchanged after sorting.\n",
    "time_list = [12, 2, 32, 19, 57, 22, 14]\n",
    "print(sorted(time_list))\n",
    "print(time_list)"
   ]
  },
  {
   "cell_type": "code",
   "execution_count": null,
   "id": "25cee70b",
   "metadata": {},
   "outputs": [],
   "source": [
    "# The following code finds the minimum and maximum values in a list of times.\n",
    "# It prints the minimum and maximum times from the list.\n",
    "# This can be useful for analyzing time data, such as finding the fastest or slowest times  \n",
    "time_list = [12, 2, 32, 19, 57, 22, 14]\n",
    "print(min(time_list))\n",
    "print(max(time_list))"
   ]
  },
  {
   "cell_type": "markdown",
   "id": "b3d920aa",
   "metadata": {},
   "source": [
    "None \n",
    "the None output is very special data type in python used to tell us that the output is empty or that it returned nothing "
   ]
  },
  {
   "cell_type": "code",
   "execution_count": null,
   "id": "b294bc27",
   "metadata": {},
   "outputs": [],
   "source": [
    "# Function to calculate and print a lucky number based on the length of a name\n",
    "# The lucky number is calculated as the length of the name multiplied by 9.\n",
    "# It prints a greeting message along with the lucky number.\n",
    "# This function can be used to generate a personalized lucky number for any given name. \n",
    "name = \"Kay\"\n",
    "number = len(name) * 9\n",
    "\n",
    "print(\"Hello \" + name + \". Your lucky number is \" + str(number))\n",
    "\n",
    "name = \"Cameron\"\n",
    "number = len(name) * 9\n",
    "\n",
    "print(\"Hello \" + name + \". Your lucky number is \" + str(number))"
   ]
  },
  {
   "cell_type": "code",
   "execution_count": null,
   "id": "fbc7af75",
   "metadata": {},
   "outputs": [],
   "source": [
    "# Function to calculate and print a lucky number based on the length of a name\n",
    "# The lucky number is calculated as the length of the name multiplied by 9.\n",
    "# It prints a greeting message along with the lucky number.\n",
    "# This function can be used to generate a personalized lucky number for any given name.\n",
    "def lucky_number(name):\n",
    "    number = len(name) * 9\n",
    "    print(\"Hello \" + name + \". Your lucky number is \" + str(number))\n",
    "\n",
    "lucky_number(\"Kay\")\n",
    "lucky_number(\"Cameron\")"
   ]
  },
  {
   "cell_type": "code",
   "execution_count": null,
   "id": "68a7ba41",
   "metadata": {},
   "outputs": [],
   "source": [
    "# Function to keep the Codespace alive  \n",
    "import time # infinite loop to keep the Codespace alive\n",
    "\n",
    "try:\n",
    "    while True:\n",
    "        print(\"Keeping Codespace alive...\")\n",
    "        time.sleep(300)  # Wait for 5 minutes\n",
    "except KeyboardInterrupt:\n",
    "    print(\"Loop stopped by user.\")"
   ]
  },
  {
   "cell_type": "code",
   "execution_count": null,
   "id": "ad846c93",
   "metadata": {},
   "outputs": [],
   "source": [
    "# This function checks if a username is valid based on its length.\n",
    "# It prints a message indicating whether the username is valid or not.\n",
    "# A valid username must be at least 3 characters long and at most 15 characters long.\n",
    "# If the username is too short or too long, it prints an error message.\n",
    "# If the username is valid, it prints a confirmation message.\n",
    "# This function can be used to validate usernames in applications where username length is a requirement.\n",
    "def hint_username(username):\n",
    "    if len(username) < 3:\n",
    "        print(\"Invalid username. Must be at least 3 characters long\")\n",
    "    else:\n",
    "        if len(username) > 15: # not ideal as nested if better to use elif\n",
    "            print(\"Invalid username. Must be at most 15 characters long\")\n",
    "        else:\n",
    "            print(\"Valid username\")"
   ]
  },
  {
   "cell_type": "code",
   "execution_count": null,
   "id": "de507b13",
   "metadata": {},
   "outputs": [
    {
     "name": "stdout",
     "output_type": "stream",
     "text": [
      "2\n"
     ]
    }
   ],
   "source": [
    "#if elif example\n",
    "\n",
    "number = 10\n",
    "\n",
    "if number > 11: \n",
    "  print(0)\n",
    "elif number != 10:\n",
    "  print(1)\n",
    "elif number >= 20 or number < 12:\n",
    "  print(2)\n",
    "else:\n",
    "  print(3)"
   ]
  },
  {
   "cell_type": "code",
   "execution_count": null,
   "id": "cc77dc93",
   "metadata": {},
   "outputs": [
    {
     "name": "stdout",
     "output_type": "stream",
     "text": [
      "7\n"
     ]
    }
   ],
   "source": [
    "#if elif example\n",
    "# This code checks the value of 'number' and prints different outputs based on its value.\n",
    "# If 'number' is greater than 11, it prints 0.\n",
    "# If 'number' is not equal to 10, it prints 1.\n",
    "# If 'number' is greater than or equal to 20 or less than 12, it prints 2.\n",
    "# Otherwise, it prints 3.   \n",
    "number = 4\n",
    "if number * 4 < 15:\n",
    " print(number / 4)\n",
    "elif number < 5:\n",
    " print(number + 3)\n",
    "else:\n",
    " print(number * 2 % 5)"
   ]
  },
  {
   "cell_type": "code",
   "execution_count": 1,
   "id": "69dcddf0",
   "metadata": {},
   "outputs": [
    {
     "name": "stdout",
     "output_type": "stream",
     "text": [
      "Not there yet, x=0\n",
      "Not there yet, x=1\n",
      "Not there yet, x=2\n",
      "Not there yet, x=3\n",
      "Not there yet, x=4\n",
      "x=5\n"
     ]
    }
   ],
   "source": [
    "# while loop example\n",
    "# This code initializes a variable 'x' to 0 and enters a while loop that continues\n",
    "# as long as 'x' is less than 5. Inside the loop, it prints a message indicating\n",
    "# the current value of 'x', increments 'x' by 1, and finally prints the value of 'x'\n",
    "# after the loop ends. This can be used to demonstrate a simple counting loop.\n",
    "x =   0\n",
    "while x < 5:\n",
    "    print(\"Not there yet, x=\" + str(x))\n",
    "    x = x + 1\n",
    "print(\"x=\" + str(x))"
   ]
  },
  {
   "cell_type": "code",
   "execution_count": 3,
   "id": "f8bce48b",
   "metadata": {},
   "outputs": [
    {
     "name": "stdout",
     "output_type": "stream",
     "text": [
      "Attempt 1\n",
      "Attempt 2\n",
      "Attempt 3\n",
      "Attempt 4\n",
      "Attempt 5\n",
      "Done\n"
     ]
    }
   ],
   "source": [
    "def attempts(n):\n",
    "    x = 1\n",
    "    while x <= n:\n",
    "        print(\"Attempt \" + str(x))\n",
    "        x += 1\n",
    "    print(\"Done\")\n",
    "\n",
    "attempts(5)"
   ]
  },
  {
   "cell_type": "code",
   "execution_count": null,
   "id": "6223898e",
   "metadata": {},
   "outputs": [],
   "source": [
    "def attempts(n):\n",
    "    x = 1\n",
    "    while x <= n:\n",
    "        print(\"Attempt \" + str(x))\n",
    "        x += 1\n",
    "    print(\"Done\")\n",
    "attempts(5)"
   ]
  },
  {
   "cell_type": "code",
   "execution_count": 4,
   "id": "9b123b8f",
   "metadata": {},
   "outputs": [
    {
     "ename": "NameError",
     "evalue": "name 'get_username' is not defined",
     "output_type": "error",
     "traceback": [
      "\u001b[31m---------------------------------------------------------------------------\u001b[39m",
      "\u001b[31mNameError\u001b[39m                                 Traceback (most recent call last)",
      "\u001b[36mCell\u001b[39m\u001b[36m \u001b[39m\u001b[32mIn[4]\u001b[39m\u001b[32m, line 1\u001b[39m\n\u001b[32m----> \u001b[39m\u001b[32m1\u001b[39m username = \u001b[43mget_username\u001b[49m()\n\u001b[32m      2\u001b[39m \u001b[38;5;28;01mwhile\u001b[39;00m \u001b[38;5;129;01mnot\u001b[39;00m valid_username(username):\n\u001b[32m      3\u001b[39m     \u001b[38;5;28mprint\u001b[39m(\u001b[33m\"\u001b[39m\u001b[33mInvalid username\u001b[39m\u001b[33m\"\u001b[39m)\n",
      "\u001b[31mNameError\u001b[39m: name 'get_username' is not defined"
     ]
    }
   ],
   "source": [
    "username = get_username()\n",
    "while not valid_username(username):\n",
    "    print(\"Invalid username\")\n",
    "    username = get_username()\n",
    "# This code will give an error because get_username is not defined"
   ]
  },
  {
   "cell_type": "code",
   "execution_count": 5,
   "id": "34d5e515",
   "metadata": {},
   "outputs": [
    {
     "ename": "NameError",
     "evalue": "name 'my_variable' is not defined",
     "output_type": "error",
     "traceback": [
      "\u001b[31m---------------------------------------------------------------------------\u001b[39m",
      "\u001b[31mNameError\u001b[39m                                 Traceback (most recent call last)",
      "\u001b[36mCell\u001b[39m\u001b[36m \u001b[39m\u001b[32mIn[5]\u001b[39m\u001b[32m, line 1\u001b[39m\n\u001b[32m----> \u001b[39m\u001b[32m1\u001b[39m \u001b[38;5;28;01mwhile\u001b[39;00m \u001b[43mmy_variable\u001b[49m < \u001b[32m10\u001b[39m:\n\u001b[32m      2\u001b[39m     \u001b[38;5;28mprint\u001b[39m(\u001b[33m\"\u001b[39m\u001b[33mHello\u001b[39m\u001b[33m\"\u001b[39m)\n\u001b[32m      3\u001b[39m     my_variable += \u001b[32m1\u001b[39m\n",
      "\u001b[31mNameError\u001b[39m: name 'my_variable' is not defined"
     ]
    }
   ],
   "source": [
    "while my_variable < 10:\n",
    "    print(\"Hello\")\n",
    "    my_variable += 1\n",
    "#This code will give a NameError\n",
    "#Variable is not defined "
   ]
  },
  {
   "cell_type": "code",
   "execution_count": 6,
   "id": "2527cce8",
   "metadata": {},
   "outputs": [
    {
     "name": "stdout",
     "output_type": "stream",
     "text": [
      "Hello\n",
      "Hello\n",
      "Hello\n",
      "Hello\n",
      "Hello\n"
     ]
    }
   ],
   "source": [
    "my_variable = 5\n",
    "while my_variable < 10:\n",
    "    print(\"Hello\")\n",
    "    my_variable += 1"
   ]
  },
  {
   "cell_type": "code",
   "execution_count": 8,
   "id": "b916522d",
   "metadata": {},
   "outputs": [
    {
     "name": "stdout",
     "output_type": "stream",
     "text": [
      "45 1\n"
     ]
    }
   ],
   "source": [
    "x = 1\n",
    "sum = 0\n",
    "while x < 10:\n",
    "    sum = sum + x\n",
    "    x = x + 1\n",
    "\n",
    "product = 1\n",
    "while x < 10:\n",
    "    product = product * x\n",
    "    x = x + 1\n",
    "\n",
    "print(sum, product)\n",
    "#Ouput 45 1"
   ]
  },
  {
   "cell_type": "code",
   "execution_count": null,
   "id": "aeeb3b9f",
   "metadata": {},
   "outputs": [
    {
     "name": "stdout",
     "output_type": "stream",
     "text": [
      "3\n",
      "2\n",
      "1\n",
      "Zero!\n"
     ]
    }
   ],
   "source": [
    "# Function to count down from a given number to zero\n",
    "# This function takes a starting number as input and prints each number\n",
    "# in the countdown until it reaches zero. It can be used for countdowns\n",
    "# or to demonstrate loops in programming.\n",
    "def count_down(start_number):\n",
    "    current = start_number\n",
    "    while current > 0:\n",
    "        print(current)\n",
    "        current -= 1\n",
    "    print(\"Zero!\")\n",
    "\n",
    "count_down(3)"
   ]
  }
 ],
 "metadata": {
  "kernelspec": {
   "display_name": ".venv (3.12.1)",
   "language": "python",
   "name": "python3"
  },
  "language_info": {
   "codemirror_mode": {
    "name": "ipython",
    "version": 3
   },
   "file_extension": ".py",
   "mimetype": "text/x-python",
   "name": "python",
   "nbconvert_exporter": "python",
   "pygments_lexer": "ipython3",
   "version": "3.12.1"
  }
 },
 "nbformat": 4,
 "nbformat_minor": 5
}
