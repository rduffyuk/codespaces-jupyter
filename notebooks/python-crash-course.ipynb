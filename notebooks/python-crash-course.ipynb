{
 "cells": [
  {
   "cell_type": "code",
   "execution_count": 1,
   "id": "822dfc48",
   "metadata": {},
   "outputs": [
    {
     "name": "stdout",
     "output_type": "stream",
     "text": [
      "hello world\n"
     ]
    }
   ],
   "source": [
    "print(\"hello world\")"
   ]
  },
  {
   "cell_type": "code",
   "execution_count": 2,
   "id": "221bbc7c",
   "metadata": {},
   "outputs": [
    {
     "name": "stdout",
     "output_type": "stream",
     "text": [
      "1.0\n"
     ]
    }
   ],
   "source": [
    "print((9-3)/(2*(1+2)))"
   ]
  },
  {
   "cell_type": "code",
   "execution_count": 3,
   "id": "d54fd605",
   "metadata": {},
   "outputs": [
    {
     "name": "stdout",
     "output_type": "stream",
     "text": [
      "3600\n"
     ]
    }
   ],
   "source": [
    "seconds_in_hour = 60 * 60\n",
    "print(seconds_in_hour)"
   ]
  },
  {
   "cell_type": "code",
   "execution_count": 4,
   "id": "f0502ce2",
   "metadata": {},
   "outputs": [
    {
     "name": "stdout",
     "output_type": "stream",
     "text": [
      "1000\n"
     ]
    }
   ],
   "source": [
    "num_digits = 3\n",
    "num_possibilities = 10 ** num_digits\n",
    "print(num_possibilities)"
   ]
  },
  {
   "cell_type": "code",
   "execution_count": 5,
   "id": "18719934",
   "metadata": {},
   "outputs": [
    {
     "name": "stdout",
     "output_type": "stream",
     "text": [
      "120.0\n"
     ]
    }
   ],
   "source": [
    "total_computers = 30 * 20\n",
    "replacement_cycle = 5\n",
    "computers_per_year = total_computers / replacement_cycle\n",
    "\n",
    "print(computers_per_year) # Should print 120.0"
   ]
  },
  {
   "cell_type": "code",
   "execution_count": 6,
   "id": "63afab71",
   "metadata": {},
   "outputs": [
    {
     "name": "stdout",
     "output_type": "stream",
     "text": [
      "meow\n"
     ]
    }
   ],
   "source": [
    "print(\"meow\")"
   ]
  },
  {
   "cell_type": "code",
   "execution_count": 1,
   "id": "83648843",
   "metadata": {},
   "outputs": [
    {
     "name": "stdout",
     "output_type": "stream",
     "text": [
      "Each person needs to pay: 27.0\n"
     ]
    }
   ],
   "source": [
    "# The following lines assign the variable to the left of the = \n",
    "# assignment operator with the values and arithmetic expressions \n",
    "# on the right side of the = assignment operator.\n",
    "hotel_room = 100\n",
    "tax = hotel_room * 0.08\n",
    "total = hotel_room + tax\n",
    "room_guests = 4\n",
    "share_per_person = total/room_guests\n",
    "\n",
    "\n",
    "# This line outputs the result of the final calculation stored\n",
    "# in the variable \"share_per_person\"\n",
    "print(\"Each person needs to pay: \" + str(share_per_person)) # change a data type"
   ]
  },
  {
   "cell_type": "code",
   "execution_count": 2,
   "id": "00cf39d7",
   "metadata": {},
   "outputs": [
    {
     "name": "stdout",
     "output_type": "stream",
     "text": [
      "Dr. Prisha Jai Agarwal, Ph.D.\n",
      "Dr. Prisha Jai Agarwal , Ph.D.\n"
     ]
    }
   ],
   "source": [
    "# The following 5 lines assign strings to a list of variables.\n",
    "salutation = \"Dr.\"\n",
    "first_name = \"Prisha\"\n",
    "middle_name = \"Jai\"\n",
    "last_name = \"Agarwal\"\n",
    "suffix = \"Ph.D.\"\n",
    " \n",
    "print(salutation + \" \" + first_name + \" \" + middle_name + \" \" + last_name + \", \" + suffix) \n",
    "# The comma as a string \", \" adds the conventional use of a comma plus a \n",
    "# space to separate the last name from the suffix.\n",
    " \n",
    "# Alternatively, you could use commas in place of the + connector:\n",
    "print(salutation, first_name, middle_name, last_name,\",\", suffix)\n",
    "# However, you will find that this produces a space before a comma within a string."
   ]
  },
  {
   "cell_type": "code",
   "execution_count": 3,
   "id": "cd7f843b",
   "metadata": {},
   "outputs": [
    {
     "name": "stdout",
     "output_type": "stream",
     "text": [
      "5 * 3 = 15\n"
     ]
    }
   ],
   "source": [
    "# The following code causes a type error between a string \n",
    "# and an integer:\n",
    "\n",
    "print(\"5 * 3 = \" + str(5*3)) \n",
    "\n",
    "\n",
    "# Resolution: \n",
    "# print(\"5 * 3 = \" + str(5*3))\n",
    "#\n",
    "# To avoid a type error between the string and the integer within the\n",
    "# print() function, you can make an explicit data type conversion by\n",
    "# using the str() function to convert the integer to a string.  "
   ]
  },
  {
   "cell_type": "code",
   "execution_count": 5,
   "id": "f11c5930",
   "metadata": {},
   "outputs": [
    {
     "name": "stdout",
     "output_type": "stream",
     "text": [
      "7.0\n"
     ]
    }
   ],
   "source": [
    "numerator = 7\n",
    "denominator = 1   # Possible resolution: Change the denominator value \n",
    "result = numerator / denominator\n",
    "print(result)\n",
    "\n",
    "\n",
    "# One possible assumption for a number divided by zero error might\n",
    "# include the issue of a null value as a denominator (could happen when\n",
    "# using a loop to iterate over values in a database). In such cases, the\n",
    "# desired outcome may be to leave the numerator value intact. The\n",
    "# numerator value can be preserved by reassigning the denominator with \n",
    "# the integer value of 1. The result would then equal the numerator."
   ]
  },
  {
   "cell_type": "code",
   "execution_count": 7,
   "id": "b62b6e90",
   "metadata": {},
   "outputs": [
    {
     "name": "stdout",
     "output_type": "stream",
     "text": [
      "Each person needs to pay: 27.186\n"
     ]
    }
   ],
   "source": [
    "bill = 47.28 # Assign \"bill\" variable with bill amount\n",
    "tip = bill * 0.15 # Multiply by stated tip rate \n",
    "total = bill + tip # Sum the \"total\" of the \"bill\" and \"tip\"\n",
    "share = total / 2 # Divide \"total\" by number of friends dining\n",
    "print(\"Each person needs to pay: \" + str(share)) # Enter the required string and \"share\" \n",
    "# Hint: Remember to convert incompatible data types"
   ]
  },
  {
   "cell_type": "code",
   "execution_count": 8,
   "id": "299226ce",
   "metadata": {},
   "outputs": [
    {
     "name": "stdout",
     "output_type": "stream",
     "text": [
      "How do you like Python so far?\n"
     ]
    }
   ],
   "source": [
    "word1 = \"How \"\n",
    "word2 = \"do \"\n",
    "word3 = \"you \"\n",
    "word4 = \"like \"\n",
    "word5 = \"Python \"\n",
    "word6 = \"so \"\n",
    "word7 = \"far?\"\n",
    "\n",
    "print(word1 + word2 + word3 + word4 + word5 + word6 + word7)"
   ]
  },
  {
   "cell_type": "markdown",
   "id": "1394b7d1",
   "metadata": {},
   "source": [
    "def - we are defining a function so the function is called greeting \n",
    "(name) - this is the parameter "
   ]
  },
  {
   "cell_type": "code",
   "execution_count": null,
   "id": "b277ae48",
   "metadata": {},
   "outputs": [
    {
     "name": "stdout",
     "output_type": "stream",
     "text": [
      "Welcome, Kay\n",
      "Welcome, Cameron\n"
     ]
    }
   ],
   "source": [
    "def greeting(name):\n",
    "    print(\"Welcome, \" + name)\n",
    "    \n",
    "greeting(\"Kay\")\n",
    "greeting(\"Cameron\")"
   ]
  },
  {
   "cell_type": "code",
   "execution_count": 10,
   "id": "80fc60e2",
   "metadata": {},
   "outputs": [
    {
     "name": "stdout",
     "output_type": "stream",
     "text": [
      "Welcome, Blake\n",
      "You are part of Software engineering\n",
      "Welcome, Ellis\n",
      "You are part of Software engineering\n"
     ]
    }
   ],
   "source": [
    "def greeting(name, department):\n",
    "    print(\"Welcome, \" + name)\n",
    "    print(\"You are part of \" + department)\n",
    "    \n",
    "greeting(\"Blake\", \"Software engineering\")\n",
    "greeting(\"Ellis\", \"Software engineering\")"
   ]
  },
  {
   "cell_type": "code",
   "execution_count": null,
   "id": "3f950c1d",
   "metadata": {},
   "outputs": [
    {
     "name": "stdout",
     "output_type": "stream",
     "text": [
      "<class 'str'>\n"
     ]
    }
   ],
   "source": [
    "print(type(\"This is a string\")) #type is used to determine the data type of a variable or value"
   ]
  },
  {
   "cell_type": "code",
   "execution_count": 12,
   "id": "e4f903e3",
   "metadata": {},
   "outputs": [
    {
     "name": "stdout",
     "output_type": "stream",
     "text": [
      "12\n"
     ]
    }
   ],
   "source": [
    "number = 12\n",
    "string_representation = str(number)\n",
    "print(string_representation)"
   ]
  },
  {
   "cell_type": "code",
   "execution_count": 15,
   "id": "e3306056",
   "metadata": {},
   "outputs": [
    {
     "name": "stdout",
     "output_type": "stream",
     "text": [
      "[2, 12, 14, 19, 22, 32, 57]\n"
     ]
    }
   ],
   "source": [
    "time_list = [12, 2, 32, 19, 57, 22, 14]\n",
    "print(sorted(time_list))\n",
    "\n",
    "\n"
   ]
  },
  {
   "cell_type": "code",
   "execution_count": 16,
   "id": "4cc02573",
   "metadata": {},
   "outputs": [
    {
     "name": "stdout",
     "output_type": "stream",
     "text": [
      "[2, 12, 14, 19, 22, 32, 57]\n",
      "[12, 2, 32, 19, 57, 22, 14]\n"
     ]
    }
   ],
   "source": [
    "time_list = [12, 2, 32, 19, 57, 22, 14]\n",
    "print(sorted(time_list))\n",
    "print(time_list)"
   ]
  },
  {
   "cell_type": "code",
   "execution_count": 17,
   "id": "25cee70b",
   "metadata": {},
   "outputs": [
    {
     "name": "stdout",
     "output_type": "stream",
     "text": [
      "2\n",
      "57\n"
     ]
    }
   ],
   "source": [
    "time_list = [12, 2, 32, 19, 57, 22, 14]\n",
    "print(min(time_list))\n",
    "print(max(time_list))"
   ]
  },
  {
   "cell_type": "markdown",
   "id": "b3d920aa",
   "metadata": {},
   "source": [
    "None \n",
    "the None output is very special data type in python used to tell us that the output is empty or that it returned nothing "
   ]
  },
  {
   "cell_type": "code",
   "execution_count": 18,
   "id": "b294bc27",
   "metadata": {},
   "outputs": [
    {
     "name": "stdout",
     "output_type": "stream",
     "text": [
      "Hello Kay. Your lucky number is 27\n",
      "Hello Cameron. Your lucky number is 63\n"
     ]
    }
   ],
   "source": [
    "name = \"Kay\"\n",
    "number = len(name) * 9\n",
    "\n",
    "print(\"Hello \" + name + \". Your lucky number is \" + str(number))\n",
    "\n",
    "name = \"Cameron\"\n",
    "number = len(name) * 9\n",
    "\n",
    "print(\"Hello \" + name + \". Your lucky number is \" + str(number))"
   ]
  },
  {
   "cell_type": "code",
   "execution_count": 19,
   "id": "fbc7af75",
   "metadata": {},
   "outputs": [
    {
     "name": "stdout",
     "output_type": "stream",
     "text": [
      "Hello Kay. Your lucky number is 27\n",
      "Hello Cameron. Your lucky number is 63\n"
     ]
    }
   ],
   "source": [
    "def lucky_number(name):\n",
    "    number = len(name) * 9\n",
    "    print(\"Hello \" + name + \". Your lucky number is \" + str(number))\n",
    "\n",
    "lucky_number(\"Kay\")\n",
    "lucky_number(\"Cameron\")"
   ]
  }
 ],
 "metadata": {
  "kernelspec": {
   "display_name": ".venv (3.12.1)",
   "language": "python",
   "name": "python3"
  },
  "language_info": {
   "codemirror_mode": {
    "name": "ipython",
    "version": 3
   },
   "file_extension": ".py",
   "mimetype": "text/x-python",
   "name": "python",
   "nbconvert_exporter": "python",
   "pygments_lexer": "ipython3",
   "version": "3.12.1"
  }
 },
 "nbformat": 4,
 "nbformat_minor": 5
}
