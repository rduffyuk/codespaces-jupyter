{
 "cells": [
  {
   "cell_type": "code",
   "execution_count": 1,
   "id": "822dfc48",
   "metadata": {},
   "outputs": [
    {
     "name": "stdout",
     "output_type": "stream",
     "text": [
      "hellow world\n"
     ]
    }
   ],
   "source": [
    "print(\"hellow world\")"
   ]
  },
  {
   "cell_type": "code",
   "execution_count": 2,
   "id": "221bbc7c",
   "metadata": {},
   "outputs": [
    {
     "name": "stdout",
     "output_type": "stream",
     "text": [
      "1.0\n"
     ]
    }
   ],
   "source": [
    "print((9-3)/(2*(1+2)))"
   ]
  },
  {
   "cell_type": "code",
   "execution_count": 3,
   "id": "d54fd605",
   "metadata": {},
   "outputs": [
    {
     "name": "stdout",
     "output_type": "stream",
     "text": [
      "3600\n"
     ]
    }
   ],
   "source": [
    "seconds_in_hour = 60 * 60\n",
    "print(seconds_in_hour)"
   ]
  },
  {
   "cell_type": "code",
   "execution_count": 4,
   "id": "f0502ce2",
   "metadata": {},
   "outputs": [
    {
     "name": "stdout",
     "output_type": "stream",
     "text": [
      "1000\n"
     ]
    }
   ],
   "source": [
    "num_digits = 3\n",
    "num_possibilities = 10 ** num_digits\n",
    "print(num_possibilities)"
   ]
  },
  {
   "cell_type": "code",
   "execution_count": 5,
   "id": "18719934",
   "metadata": {},
   "outputs": [
    {
     "name": "stdout",
     "output_type": "stream",
     "text": [
      "120.0\n"
     ]
    }
   ],
   "source": [
    "total_computers = 30 * 20\n",
    "replacement_cycle = 5\n",
    "computers_per_year = total_computers / replacement_cycle\n",
    "\n",
    "print(computers_per_year) # Should print 120.0"
   ]
  },
  {
   "cell_type": "code",
   "execution_count": null,
   "id": "63afab71",
   "metadata": {},
   "outputs": [],
   "source": []
  }
 ],
 "metadata": {
  "kernelspec": {
   "display_name": ".venv",
   "language": "python",
   "name": "python3"
  },
  "language_info": {
   "codemirror_mode": {
    "name": "ipython",
    "version": 3
   },
   "file_extension": ".py",
   "mimetype": "text/x-python",
   "name": "python",
   "nbconvert_exporter": "python",
   "pygments_lexer": "ipython3",
   "version": "3.12.1"
  }
 },
 "nbformat": 4,
 "nbformat_minor": 5
}
